{
 "cells": [
  {
   "cell_type": "markdown",
   "metadata": {},
   "source": [
    "### This file is used to alter the results of the csv files, normalization and so on  "
   ]
  },
  {
   "cell_type": "code",
   "execution_count": 3,
   "metadata": {},
   "outputs": [],
   "source": [
    "import pandas as pd\n",
    "import os \n",
    "import numpy as np\n",
    "import matplotlib.pyplot as plt\n",
    "import seaborn as sns\n"
   ]
  },
  {
   "cell_type": "code",
   "execution_count": 5,
   "metadata": {},
   "outputs": [
    {
     "name": "stdout",
     "output_type": "stream",
     "text": [
      "msps_3_requests_30_gamma_0.97_after_changing_and_immediate_avg\n",
      "msps_1_requests_30_gamma_0.97_after_changing_and_immediate_avg\n",
      "msps_4_requests_50_gamma_0.97_after_changing_and_immediate_avg\n",
      "msps_2_requests_50_gamma_0.97_after_changing_and_immediate_avg\n",
      "msps_5_requests_30_gamma_0.97_after_changing_and_immediate_avg\n",
      "msps_2_requests_70_gamma_0.97_after_changing_and_immediate_avg\n",
      "msps_3_requests_90_gamma_0.97_after_changing_and_immediate_avg\n",
      "msps_5_requests_10_gamma_0.97_after_changing_and_immediate_avg\n",
      "msps_1_requests_90_gamma_0.97_after_changing_and_immediate_avg\n",
      "msps_3_requests_10_gamma_0.97_after_changing_and_immediate_avg\n",
      "msps_5_requests_90_gamma_0.97_after_changing_and_immediate_avg\n",
      "msps_1_requests_10_gamma_0.97_after_changing_and_immediate_avg\n"
     ]
    },
    {
     "name": "stderr",
     "output_type": "stream",
     "text": [
      "/var/folders/1s/b22plkzn0h92_x6sjtq1_c6m0000gp/T/ipykernel_16728/3710732146.py:11: DtypeWarning: Columns (13) have mixed types. Specify dtype option on import or set low_memory=False.\n",
      "  df = pd.read_csv(f'./results/{file_name}/summary.csv')\n"
     ]
    },
    {
     "name": "stdout",
     "output_type": "stream",
     "text": [
      "msps_4_requests_70_gamma_0.97_after_changing_and_immediate_avg\n",
      "msps_2_requests_30_gamma_0.97_after_changing_and_immediate_avg\n",
      "msps_5_requests_50_gamma_0.97_after_changing_and_immediate_avg\n",
      "msps_3_requests_50_gamma_0.97_after_changing_and_immediate_avg\n",
      "msps_4_requests_30_gamma_0.97_after_changing_and_immediate_avg\n",
      "msps_1_requests_50_gamma_0.97_after_changing_and_immediate_avg\n",
      "msps_2_requests_90_gamma_0.97_after_changing_and_immediate_avg\n",
      "msps_3_requests_70_gamma_0.97_after_changing_and_immediate_avg\n",
      "msps_4_requests_10_gamma_0.97_after_changing_and_immediate_avg\n",
      "msps_1_requests_70_gamma_0.97_after_changing_and_immediate_avg\n",
      "msps_2_requests_10_gamma_0.97_after_changing_and_immediate_avg\n",
      "msps_5_requests_70_gamma_0.97_after_changing_and_immediate_avg\n",
      "msps_4_requests_90_gamma_0.97_after_changing_and_immediate_avg\n"
     ]
    }
   ],
   "source": [
    "def min_max_normalize(column):\n",
    "    return (column - column.min()) / (column.max() - column.min())\n",
    "\n",
    "\n",
    "# input(\"You are about to add a new file to each run, are you sure you want to continue? (y/n)\")\n",
    "# if input == \"y\" or input == \"Y\":\n",
    "for file_name in os.listdir('./results'):\n",
    "    if file_name in [\"comparison_plots\",\".DS_Store\",\"results\"]:\n",
    "        continue\n",
    "    print(file_name)\n",
    "    df = pd.read_csv(f'./results/{file_name}/summary.csv')\n",
    "    df['normalized_total_reward'] = min_max_normalize(df['total_reward']) * 100 \n",
    "    df['normalized_total_reward']\n",
    "    df.to_csv(f'./results/{file_name}/summary_normalized.csv', index=False)\n"
   ]
  },
  {
   "cell_type": "code",
   "execution_count": 3,
   "metadata": {},
   "outputs": [
    {
     "data": {
      "text/plain": [
       "count    50400.000000\n",
       "mean       -81.626573\n",
       "std         23.091519\n",
       "min       -227.827089\n",
       "25%        -76.144744\n",
       "50%        -76.144744\n",
       "75%        -76.144744\n",
       "max        -76.124536\n",
       "Name: total_reward, dtype: float64"
      ]
     },
     "execution_count": 3,
     "metadata": {},
     "output_type": "execute_result"
    }
   ],
   "source": [
    "df['total_reward'].describe()"
   ]
  },
  {
   "cell_type": "code",
   "execution_count": 5,
   "metadata": {},
   "outputs": [
    {
     "data": {
      "text/plain": [
       "0        0.048643\n",
       "1        0.108622\n",
       "2        0.110366\n",
       "3        0.099064\n",
       "4        0.070217\n",
       "           ...   \n",
       "50395    0.999867\n",
       "50396    0.999867\n",
       "50397    0.999867\n",
       "50398    0.999867\n",
       "50399    0.999867\n",
       "Name: normalized_total_reward, Length: 50400, dtype: float64"
      ]
     },
     "execution_count": 5,
     "metadata": {},
     "output_type": "execute_result"
    }
   ],
   "source": [
    "\n",
    "\n",
    "# df.to_csv(f'{file_name}/summary_normalized.csv', index=False)\n",
    "\n"
   ]
  },
  {
   "cell_type": "code",
   "execution_count": null,
   "metadata": {},
   "outputs": [],
   "source": []
  },
  {
   "cell_type": "code",
   "execution_count": null,
   "metadata": {},
   "outputs": [],
   "source": []
  }
 ],
 "metadata": {
  "kernelspec": {
   "display_name": ".venv",
   "language": "python",
   "name": "python3"
  },
  "language_info": {
   "codemirror_mode": {
    "name": "ipython",
    "version": 3
   },
   "file_extension": ".py",
   "mimetype": "text/x-python",
   "name": "python",
   "nbconvert_exporter": "python",
   "pygments_lexer": "ipython3",
   "version": "3.9.6"
  }
 },
 "nbformat": 4,
 "nbformat_minor": 2
}
