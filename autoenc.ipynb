{
 "cells": [
  {
   "cell_type": "code",
   "execution_count": 1,
   "metadata": {},
   "outputs": [],
   "source": [
    "import torch \n",
    "import numpy\n"
   ]
  },
  {
   "cell_type": "code",
   "execution_count": 2,
   "metadata": {},
   "outputs": [],
   "source": [
    "from helpers.Constants import UNIVERSAL_POSSIBLE_PERCENTAGES\n",
    "\n",
    "def get_possible_actions(heads):\n",
    "    \"\"\"\n",
    "    This function returns all possible combinations of resource allocations for all heads.\n",
    "    Each head can have different combinations of [bitrate, framerate, behavioral_accuracy].\n",
    "    The bitrate, framerate and behavioral_accuracy are given as percentages of the maximum values.\n",
    "    Returns:\n",
    "        List[List[Tuple]]: List of all possible combinations for all heads\n",
    "        int: Total number of possible actions\n",
    "    \"\"\"\n",
    "\n",
    "    def generate_head_combinations(head_index, current_combination):\n",
    "        # Base case: if we've assigned resources to all heads\n",
    "        if head_index == len(heads):\n",
    "            return [current_combination[:]]\n",
    "\n",
    "        combinations = []\n",
    "        # For each head, try all possible combinations of resources\n",
    "        for max_bit_rate_perc in UNIVERSAL_POSSIBLE_PERCENTAGES:\n",
    "            for max_frame_rate_perc in UNIVERSAL_POSSIBLE_PERCENTAGES:\n",
    "                for max_behav_acc_perc in UNIVERSAL_POSSIBLE_PERCENTAGES:\n",
    "                    # Append the current combination for this head\n",
    "                    current_combination.append((max_bit_rate_perc, max_frame_rate_perc, max_behav_acc_perc))\n",
    "                    # Recurse to generate combinations for the next head\n",
    "                    combinations.extend(generate_head_combinations(head_index + 1, current_combination))\n",
    "                    # Remove the last added combination to backtrack\n",
    "                    current_combination.pop()\n",
    "\n",
    "        return combinations\n",
    "\n",
    "    # Generate all possible combinations starting with an empty list\n",
    "    actions_dict = generate_head_combinations(0, [])\n",
    "    number_of_actions = len(actions_dict)\n",
    "    # self.actions_generated = True\n",
    "    # print(f\"@{self.__class__.__name__}, Info: MSP {self.id} has generated {number_of_actions} actions\")\n",
    "    my_dict = {index: value for index, value in enumerate(actions_dict)}\n",
    "    return my_dict, number_of_actions"
   ]
  },
  {
   "cell_type": "code",
   "execution_count": 3,
   "metadata": {},
   "outputs": [],
   "source": [
    "actions,number = get_possible_actions([1])"
   ]
  },
  {
   "cell_type": "code",
   "execution_count": null,
   "metadata": {},
   "outputs": [],
   "source": [
    "actions[0]"
   ]
  },
  {
   "cell_type": "code",
   "execution_count": 22,
   "metadata": {},
   "outputs": [],
   "source": [
    "def value_to_discrete(value):\n",
    "    \"\"\"\n",
    "    This function takes a value from -2 to 2 and outputs a discrete number from 0 to 63 inclusive.\n",
    "    \"\"\"\n",
    "    # Ensure the value is within the expected range\n",
    "    if value < -2 or value > 2:\n",
    "        raise ValueError(\"Value must be between -2 and 2 inclusive.\")\n",
    "    \n",
    "    # Normalize the value to a range of 0 to 1\n",
    "    normalized_value = (value + 2) / 4\n",
    "    \n",
    "    # Scale the normalized value to a range of 0 to 63\n",
    "    discrete_value = round(normalized_value * 63)\n",
    "    \n",
    "    return discrete_value"
   ]
  },
  {
   "cell_type": "code",
   "execution_count": null,
   "metadata": {},
   "outputs": [],
   "source": [
    "# Example usage\n",
    "import numpy as np\n",
    "values_dict = {}\n",
    "for value in np.arange(-2, 2, 0.01):\n",
    "    discrete_value = value_to_discrete(value)\n",
    "    current_count = values_dict.get(discrete_value,0)\n",
    "    values_dict[discrete_value] = current_count + 1\n",
    "\n",
    "    # print(value,discrete_value)  # Output should be 47\n",
    "# plot distribution of values_dict.values()\n",
    "import matplotlib.pyplot as plt\n",
    "plt.bar(values_dict.keys(), values_dict.values())\n",
    "plt.show()\n"
   ]
  },
  {
   "cell_type": "code",
   "execution_count": null,
   "metadata": {},
   "outputs": [],
   "source": []
  },
  {
   "cell_type": "code",
   "execution_count": 1,
   "metadata": {},
   "outputs": [],
   "source": [
    "def value_to_discrete(value):\n",
    "    \"\"\"\n",
    "    This function takes a value from -2 to 2 and outputs a discrete number from 0 to 63 inclusive.\n",
    "    Each discrete value represents an equal-width bin in the continuous space.\n",
    "    \"\"\"\n",
    "    # Ensure the value is within the expected range\n",
    "    # if value < -2 or value > 2:\n",
    "    assert value < -1 or value > 1, \"Value must be between -1 and 1 inclusive.\"\n",
    "    \n",
    "    # normalized_value = (value + 2) / 4\n",
    "    normalized_value = (value + 1) / 2\n",
    "    \n",
    "    # Scale and floor the normalized value to create equal-width bins\n",
    "    # Multiply by 64 instead of 63 to create 64 bins (0-63)\n",
    "    # Use min to ensure we don't get 64 as a result for the maximum input value\n",
    "    discrete_value = min(int(normalized_value * 64), 63)\n",
    "    \n",
    "    return discrete_value"
   ]
  },
  {
   "cell_type": "code",
   "execution_count": null,
   "metadata": {},
   "outputs": [],
   "source": [
    "# Example usage\n",
    "import numpy as np\n",
    "values_dict = {}\n",
    "# for value in np.arange(-2, 2, 0.01):\n",
    "for value in np.arange(-1, 1, 0.01):\n",
    "    discrete_value = value_to_discrete(value)\n",
    "    current_count = values_dict.get(discrete_value,0)\n",
    "    values_dict[discrete_value] = current_count + 1\n",
    "\n",
    "    # print(value,discrete_value)  # Output should be 47\n",
    "# plot distribution of values_dict.values()\n",
    "import matplotlib.pyplot as plt\n",
    "plt.bar(values_dict.keys(), values_dict.values())\n",
    "plt.show()\n"
   ]
  },
  {
   "cell_type": "code",
   "execution_count": null,
   "metadata": {},
   "outputs": [],
   "source": [
    "values_dict"
   ]
  },
  {
   "cell_type": "code",
   "execution_count": 1,
   "metadata": {},
   "outputs": [
    {
     "ename": "ModuleNotFoundError",
     "evalue": "No module named 'skopt'",
     "output_type": "error",
     "traceback": [
      "\u001b[0;31m---------------------------------------------------------------------------\u001b[0m",
      "\u001b[0;31mModuleNotFoundError\u001b[0m                       Traceback (most recent call last)",
      "Cell \u001b[0;32mIn[1], line 2\u001b[0m\n\u001b[1;32m      1\u001b[0m \u001b[38;5;66;03m# !pip install scikit-optimize\u001b[39;00m\n\u001b[0;32m----> 2\u001b[0m \u001b[38;5;28;01mimport\u001b[39;00m \u001b[38;5;21;01mskopt\u001b[39;00m\n\u001b[1;32m      3\u001b[0m \u001b[38;5;28mprint\u001b[39m(skopt\u001b[38;5;241m.\u001b[39m__version__)\n",
      "\u001b[0;31mModuleNotFoundError\u001b[0m: No module named 'skopt'"
     ]
    }
   ],
   "source": [
    "# !pip install scikit-optimize\n",
    "import skopt\n",
    "print(skopt.__version__)"
   ]
  },
  {
   "cell_type": "code",
   "execution_count": null,
   "metadata": {},
   "outputs": [],
   "source": [
    "# for the Bayesian optimization, you can see claude."
   ]
  }
 ],
 "metadata": {
  "kernelspec": {
   "display_name": ".venv",
   "language": "python",
   "name": "python3"
  },
  "language_info": {
   "codemirror_mode": {
    "name": "ipython",
    "version": 3
   },
   "file_extension": ".py",
   "mimetype": "text/x-python",
   "name": "python",
   "nbconvert_exporter": "python",
   "pygments_lexer": "ipython3",
   "version": "3.9.6"
  }
 },
 "nbformat": 4,
 "nbformat_minor": 2
}
